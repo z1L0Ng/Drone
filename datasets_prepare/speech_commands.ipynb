{
 "cells": [
  {
   "cell_type": "markdown",
   "id": "08bb8fa0",
   "metadata": {},
   "source": [
    "## Notebook 1: Download and Prepare Speech Commands Dataset\n",
    "\n",
    "This notebook downloads the [Speech Commands Dataset](https://www.kaggle.com/datasets/yashdogra/speech-commands) from Kaggle and prepares the data for model training.\n",
    "\n",
    "**Steps:**\n",
    "1.  **Set up Kaggle API**: Ensure you have your Kaggle API credentials (`kaggle.json`) set up in your environment.\n",
    "2.  **Download and Unzip**: Use the Kaggle API to download and unzip the dataset.\n",
    "3.  **Process and Prepare Data**: Convert the audio files into Mel Spectrograms formatted for the `resnet_conformer_seld` model, based on the preprocessing found in `424_best.ipynb`."
   ]
  },
  {
   "cell_type": "code",
   "execution_count": 2,
   "id": "c0aaa065",
   "metadata": {},
   "outputs": [
    {
     "name": "stdout",
     "output_type": "stream",
     "text": [
      "Downloading speech-commands dataset from Kaggle...\n",
      "Dataset URL: https://www.kaggle.com/datasets/yashdogra/speech-commands\n",
      "Dataset successfully downloaded and unzipped to: ./datasets/speech-commands\n"
     ]
    }
   ],
   "source": [
    "import os\n",
    "import kaggle\n",
    "import shutil\n",
    "\n",
    "# 1. Download Dataset\n",
    "print('Downloading speech-commands dataset from Kaggle...')\n",
    "dataset_slug = 'yashdogra/speech-commands'\n",
    "download_path = './datasets/speech-commands'\n",
    "\n",
    "if os.path.exists(download_path):\n",
    "    shutil.rmtree(download_path) # Clean up previous downloads\n",
    "os.makedirs(download_path, exist_ok=True)\n",
    "\n",
    "kaggle.api.dataset_download_files(dataset_slug, path=download_path, unzip=True)\n",
    "\n",
    "print(f'Dataset successfully downloaded and unzipped to: {download_path}')"
   ]
  },
  {
   "cell_type": "markdown",
   "id": "ce20e7a0",
   "metadata": {},
   "source": [
    "### 2. Prepare Data for Training\n",
    "\n",
    "This section processes the raw `.wav` files into the required format (Mel Spectrograms) and creates corresponding labels."
   ]
  }
 ],
 "metadata": {
  "kernelspec": {
   "display_name": "drone",
   "language": "python",
   "name": "python3"
  },
  "language_info": {
   "codemirror_mode": {
    "name": "ipython",
    "version": 3
   },
   "file_extension": ".py",
   "mimetype": "text/x-python",
   "name": "python",
   "nbconvert_exporter": "python",
   "pygments_lexer": "ipython3",
   "version": "3.11.13"
  }
 },
 "nbformat": 4,
 "nbformat_minor": 5
}
